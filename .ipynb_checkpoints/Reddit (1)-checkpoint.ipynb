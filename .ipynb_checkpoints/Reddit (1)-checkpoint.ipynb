{
 "cells": [
  {
   "cell_type": "code",
   "execution_count": 3,
   "id": "18c29a3b",
   "metadata": {},
   "outputs": [],
   "source": [
    "import csv\n",
    "import sys\n",
    "import os\n",
    "import time\n",
    "import pandas as pd\n",
    "from datetime import datetime,date\n",
    "import re\n",
    "from selenium import webdriver\n",
    "import requests\n",
    "from selenium.webdriver.common.action_chains import ActionChains\n",
    "from selenium.webdriver.support.ui import WebDriverWait as wait\n",
    "from selenium.webdriver.support import expected_conditions as EC\n",
    "from selenium.webdriver.common.by import By\n",
    "from selenium.webdriver.chrome.options import Options\n",
    "from selenium.common.exceptions import NoSuchElementException\n",
    "from selenium.common.exceptions import TimeoutException\n",
    "import pyodbc\n",
    "from dateutil.parser import parse\n",
    "from dateutil.relativedelta import relativedelta\n",
    "from selenium.webdriver.edge.service import Service\n",
    "from selenium.webdriver.edge.service import Service\n",
    "from selenium import webdriver"
   ]
  },
  {
   "cell_type": "code",
   "execution_count": 4,
   "id": "d9ed5192",
   "metadata": {},
   "outputs": [],
   "source": [
    "# pip install selenium"
   ]
  },
  {
   "cell_type": "code",
   "execution_count": 5,
   "id": "a824a71a",
   "metadata": {
    "scrolled": true
   },
   "outputs": [
    {
     "name": "stdout",
     "output_type": "stream",
     "text": [
      "0\n",
      "0\n"
     ]
    },
    {
     "ename": "NameError",
     "evalue": "name 'edge_service' is not defined",
     "output_type": "error",
     "traceback": [
      "\u001b[1;31m---------------------------------------------------------------------------\u001b[0m",
      "\u001b[1;31mNameError\u001b[0m                                 Traceback (most recent call last)",
      "Cell \u001b[1;32mIn[5], line 65\u001b[0m\n\u001b[0;32m     63\u001b[0m \u001b[38;5;28mprint\u001b[39m(\u001b[38;5;28mlen\u001b[39m(com))\n\u001b[0;32m     64\u001b[0m driver\u001b[38;5;241m.\u001b[39mquit()\n\u001b[1;32m---> 65\u001b[0m driver \u001b[38;5;241m=\u001b[39m webdriver\u001b[38;5;241m.\u001b[39mEdge(service\u001b[38;5;241m=\u001b[39medge_service)\n\u001b[0;32m     66\u001b[0m driver\u001b[38;5;241m.\u001b[39mget(\u001b[38;5;28mstr\u001b[39m(urls[each]))\n\u001b[0;32m     67\u001b[0m time\u001b[38;5;241m.\u001b[39msleep(\u001b[38;5;241m2\u001b[39m)\n",
      "\u001b[1;31mNameError\u001b[0m: name 'edge_service' is not defined"
     ]
    }
   ],
   "source": [
    "def date_con(review_date_str):\n",
    "    pattern = r'(\\d+) (\\w+)\\ ago'\n",
    "    match = re.match(pattern, review_date_str)\n",
    "    if match:\n",
    "        num = int(match.group(1))\n",
    "        unit = match.group(2)\n",
    "        units_mapping = {\n",
    "            'mo': 'months',\n",
    "            'days': 'days',\n",
    "            'yr': 'years'\n",
    "            }\n",
    "        unit = units_mapping.get(unit, '')\n",
    "        actual_date = datetime.now() - relativedelta(**{unit: num})\n",
    "        return actual_date.strftime('%Y-%m-%d')\n",
    "    else:\n",
    "        return None\n",
    "\n",
    "def replace_str(text):\n",
    "    pattern = r'\\bEdited\\b(?:\\s+\\w+){0,2}\\s*'\n",
    "    new_text = re.sub(pattern, '', text)\n",
    "    return new_text\n",
    "driver=webdriver.Edge()\n",
    "\n",
    "# edge_driver_path = r'C:\\Users\\v-smanish\\Downloads\\edgedriver_win64\\msedgedriver.exe'\n",
    "# edge_service = Service(edge_driver_path)\n",
    "# driver = webdriver.Edge(service=edge_service)\n",
    "urls = {\n",
    "'Surface':'https://www.reddit.com/r/Surface/search/?q=surface+laptops&type=link&cId=dc438b78-f50d-4cbd-b272-5afe8e3d7409&iId=d569288b-f614-4cd9-8717-e107a9b99beb',\n",
    "'Surface':'https://www.reddit.com/r/Surface/search/?q=windows+laptop&type=link&cId=f8660466-e8e7-4c67-a88d-11c3e76f8df7&iId=f31227e2-8738-403d-a677-6a44bb445644',\n",
    "'Laptops':'https://www.reddit.com/r/laptops/search/?q=surface+laptop&type=link&cId=5ad70ba2-3940-4326-9c65-d14485443c5e&iId=2acc74cc-2dfb-4040-b9f9-9f69e7f8be20',\n",
    "'Laptops':'https://www.reddit.com/r/laptops/search/?q=windows+laptop&type=link&cId=bdbb86cf-75f1-4cb0-af2f-c4e958caea27&iId=b8a04d5c-a047-448b-ad81-6447a2d44770',\n",
    "'SuggestALaptop':'https://www.reddit.com/r/SuggestALaptop/search/?q=surface+laptop&type=link&cId=384461d3-f65d-4b7f-8180-5e98e33681c1&iId=7c787863-b632-47ea-a51f-52ab5da3c248',\n",
    "'SuggestALaptop':'https://www.reddit.com/r/SuggestALaptop/search/?q=windows+laptop&type=link&cId=fabbf3ea-bd1f-4798-a897-7514a2d1a1a6&iId=474cd374-8cfe-432b-a1cf-fb761a395755',\n",
    "'LaptopDeals':'https://www.reddit.com/r/LaptopDeals/search/?q=surface+laptop&type=link&cId=75ca11b7-1f45-438b-80f3-3df017697ee6&iId=e9cddb4d-39e9-49c0-9a42-de41a7f7ea48',\n",
    "'LaptopDeals':'https://www.reddit.com/r/LaptopDeals/search/?q=windows+laptop&type=link&cId=d7f023ed-c2f5-4055-aa0c-d02678930199&iId=89acd1f1-86ff-4dae-964a-6e441e28488f',\n",
    "'HardwareSwap':'https://www.reddit.com/r/hardwareswap/search/?q=surface+laptop&type=link&cId=10c6e627-082f-42fc-8475-986698b81214&iId=77c3e153-16c7-4d53-aff0-8a5b43199709',\n",
    "'HardwareSwap':'https://www.reddit.com/r/hardwareswap/search/?q=windows+laptop&type=link&cId=68f21823-0d52-4dd7-8bc9-e0b532835c73&iId=daa96cf6-70c0-4887-9dd5-3ccee4e99a46',\n",
    "'Microsoft':'https://www.reddit.com/r/microsoft/search/?q=surface+laptop&type=link&cId=14dedb92-1554-407e-88f1-04b10e2bc837&iId=7e30b003-da3e-445e-b485-39646e56ac26',\n",
    "'Microsoft':'https://www.reddit.com/r/microsoft/search/?q=windows+laptop&type=link&cId=bb5ef5e7-65d6-484c-9be9-13441fd01a0c&iId=c5e9e960-ceb1-4412-9fd8-836ee54ff0d7',\n",
    "'AMD':'https://www.reddit.com/r/Amd/search/?q=surface+laptop&type=link&cId=4641767a-5c25-405d-8749-fa8d319cee11&iId=e8d3b0be-e8cb-441e-b75c-23d12bce7cd3',\n",
    "'AMD':'https://www.reddit.com/r/Amd/search/?q=Windows+laptop&type=link&cId=edda8380-418d-4943-b718-b4fb8b6abaf6&iId=0345e556-d60d-4950-858c-0d9335fd9379',\n",
    "'Gadget':'https://www.reddit.com/r/gadgets/search/?q=surface+laptop&type=link&cId=51473eaa-ad0e-4851-8c58-53d99a66dfdb&iId=53f434d1-fcac-478c-bd78-b7aca218bbdc',\n",
    "'Gadget':'https://www.reddit.com/r/gadgets/search/?q=windows+laptop&type=link&cId=39e76040-e750-42f6-9e46-e3140116d199&iId=bd9a2d65-e61b-44bc-8d45-38c91adf9b23',\n",
    "'Windows10':'https://www.reddit.com/r/Windows10/search/?q=surface+laptop&type=link&cId=a5220d04-fe28-4331-b688-5c344d1e1d73&iId=2f1b39aa-cf93-45d5-af1c-d2b85728ba43',\n",
    "'Windows10':'https://www.reddit.com/r/Windows10/search/?q=windows+laptop&type=link&cId=cb58f88f-b2f2-4dbb-9061-d2405e37c629&iId=c9563618-80b6-42da-b34f-94b6a88063b9',\n",
    "'AMD_Stock':'https://www.reddit.com/r/AMD_Stock/search/?q=surface+laptop&type=link&cId=91b302ed-7044-4045-a18d-353135fb931e&iId=6886df6c-6e9c-47d2-ac31-04331c91efa3',\n",
    "'AMD_Stock':'https://www.reddit.com/r/AMD_Stock/search/?q=windows+laptop&type=link&cId=365ce7c6-e709-4d8f-a5c3-71877be104a0&iId=ac19065a-3cd3-406b-8f9c-b5b3fc9c76af',\n",
    "'TechSupport':'https://www.reddit.com/r/techsupport/search/?q=surface+laptops&type=link&cId=b4c07962-630f-48fb-bea3-1891e9cd51c4&iId=e1fa70fb-d7b8-485f-8517-0ca6ea40fd95',\n",
    "'TechSupport':'https://www.reddit.com/r/techsupport/search/?q=windows+laptops&type=link&cId=003e53a3-51eb-4ff5-9174-f61858b208f1&iId=bec8a539-3308-4dff-8f27-a0a99af8dc94',\n",
    "'Windows':'https://www.reddit.com/r/windows/search/?q=surface+laptops&type=link&cId=a8024c3c-8f1b-4789-89c0-0cc4a9109f90&iId=9cf6aef8-a3f0-4e9d-81e2-78e25ba320bf',\n",
    "'Windows':'https://www.reddit.com/r/windows/search/?q=windows+laptops&type=link&cId=abec3748-2579-4817-ba7b-f2ee77b82ed2&iId=02f05228-59c1-4b68-bc95-4bdbd6d3509d',\n",
    "'Computers':'https://www.reddit.com/r/computers/search/?q=surface+laptop&type=link&cId=692a5183-c1d6-4ad0-b2ea-eac3d83b6564&iId=3d7eb002-3b22-45e9-ad5a-9337a0603c79',\n",
    "'Computers':'https://www.reddit.com/r/computers/search/?q=windows+laptop&type=link&cId=a4b87360-6504-49e3-a401-5814dcd2b41f&iId=9aac317b-59a7-4752-ab90-e61efc1d74d9',\n",
    "'Windows11':'https://www.reddit.com/r/Windows11/search/?q=surface+laptops&type=link&cId=8e1d51e4-5f9e-4ae1-8e7b-cd8f1f47d734&iId=ea3a7f48-e224-4810-aff5-f8250ab27f8e',\n",
    "'Windows11':'https://www.reddit.com/r/Windows11/search/?q=windows+laptops&type=link&cId=33ed0264-86ea-4799-9081-8926d6a27b89&iId=d909a378-a0a0-4fbf-ac82-ab9cd850ac47',\n",
    "'TechNews':'https://www.reddit.com/r/technews/search/?q=surface+laptops&type=link&cId=7da90adc-2621-4444-9c6b-5187410fb8b5&iId=d94de688-caac-400a-8c97-6feea7ee0d53',\n",
    "'TechNews':'https://www.reddit.com/r/technews/search/?q=windows+laptops&type=link&cId=ad899d78-dbe1-4e7e-ab5e-754ca2a80edc&iId=3eedb7f9-4ef0-4ed1-9f8c-81902a910662'}\n",
    "community = list(urls.keys())\n",
    "links = []\n",
    "com = []\n",
    "for each in community:\n",
    "    print(len(links))\n",
    "    print(len(com))\n",
    "    driver.quit()\n",
    "    driver = webdriver.Edge(service=edge_service)\n",
    "    driver.get(str(urls[each]))\n",
    "    time.sleep(2)\n",
    "    last_height = driver.execute_script(\"return document.body.scrollHeight\")\n",
    "    while True:\n",
    "        driver.execute_script(\"window.scrollTo(0, document.body.scrollHeight);\")\n",
    "        time.sleep(2)\n",
    "        new_height = driver.execute_script(\"return document.body.scrollHeight\")\n",
    "        if new_height == last_height:\n",
    "            break\n",
    "        last_height = new_height\n",
    "    try:\n",
    "        box = driver.find_element('xpath','//*[@class=\"bg-neutral-background min-h-[calc(100vh-var(--shreddit-header-height)-var(--page-y-padding))] mx-auto xs:px-0 sm:px-md lg:px-0 \"]')\n",
    "        feed = box.find_element('xpath','//*[@label=\"search-results-page-tab-posts\"]')\n",
    "        all_post = feed.find_elements('xpath','//*[@class = \"flex justify-between items-center p-md hover:bg-neutral-background-hover xs:rounded-[16px] my-2xs relative\"]')\n",
    "    except:\n",
    "        pass\n",
    "    for each_post in all_post:\n",
    "        try:\n",
    "            lk = each_post.find_element('class name','absolute.inset-0')\n",
    "            z = lk.get_attribute('href')\n",
    "            links.append(z)\n",
    "            com.append(z+'_'+each)\n",
    "        except:\n",
    "            pass\n",
    "        \n",
    "\n",
    "print(len(links))\n",
    "print(len(com))\n",
    "links = list(set(links))\n",
    "com=list(set(com))\n",
    "uids = []\n",
    "titles = []\n",
    "dates = []\n",
    "contents = []\n",
    "comments =[]\n",
    "u = []\n",
    "it = 0\n",
    "for lin in links:\n",
    "    it+=1\n",
    "    if it%5 == 0:\n",
    "        print(it)\n",
    "        driver.quit()\n",
    "        driver = webdriver.Edge(service=edge_service)\n",
    "    driver.get(lin)\n",
    "    time.sleep(2)\n",
    "    uid = lin.split('comments/')[1].split('/')[0]\n",
    "    uids.append(uid)\n",
    "    #to get the title of post\n",
    "    try:\n",
    "        title = driver.find_element('xpath','//*[@class=\"font-semibold text-neutral-content-strong m-0 text-18 xs:text-24  mb-xs px-md xs:px-0 xs:mb-md \"]').text\n",
    "    except:\n",
    "        title = None\n",
    "    titles.append(title)\n",
    "    try:\n",
    "        date = driver.find_element('xpath','//*[@class=\"flex gap-0 flex-col truncate\"]').text.split('\\n')[2]\n",
    "    except:\n",
    "        date = None\n",
    "    try:\n",
    "        date = date.replace('.','')\n",
    "        date = date_con(date)\n",
    "    except:\n",
    "        pass\n",
    "    dates.append(date)\n",
    "    #to get the content of post\n",
    "    try:\n",
    "        driver.find_element('xpath','//*[@class=\"m-0 ml-[-1rem] md px-md py-0 not-italic font-normal text-sm items-center h-[28px] bg-transparent button-plain a hover:bg-transparent focus:bg-transparent active:bg-transparent visited:bg-transparent flex\"]').click()\n",
    "        time.sleep(1)\n",
    "    except:\n",
    "        pass\n",
    "\n",
    "    try:\n",
    "        rev_box = driver.find_element('xpath','//*[@class=\"mb-sm  mb-xs px-md xs:px-0\"]')\n",
    "        p = rev_box.find_elements('tag name','p')\n",
    "        t = []\n",
    "        for i in p:\n",
    "            t.append(i.text)\n",
    "        Content = '\\n'.join(t)\n",
    "    except:\n",
    "        Content = None\n",
    "    contents.append(Content)\n",
    "    #to get the comments\n",
    "\n",
    "    driver.execute_script(\"window.scrollTo(0, document.body.scrollHeight);\")\n",
    "    time.sleep(1)\n",
    "    while True:\n",
    "        try:\n",
    "            see_more = driver.find_element('xpath','//*[@class=\"inline-block mt-[2px] ml-px\"]')\n",
    "            driver.execute_script(\"arguments[0].scrollIntoView();\", see_more)\n",
    "            driver.execute_script(\"arguments[0].click();\", see_more)\n",
    "            time.sleep(2)\n",
    "        except:\n",
    "            break\n",
    "    try:\n",
    "        cm_box = driver.find_element('xpath','//*[@id=\"comment-tree\"]')\n",
    "        all_cm = cm_box.find_elements('xpath','//*[@class=\"md text-14 rounded-[8px] pb-2xs\"]')\n",
    "    except:\n",
    "        cm_box = None\n",
    "    if cm_box == None:\n",
    "        pass\n",
    "    else:\n",
    "        for i in range(1,len(all_cm)):\n",
    "            on = '//*[@id=\"comment-tree\"]/shreddit-comment['\n",
    "            tw = ']'\n",
    "            try:\n",
    "                p = driver.find_element('xpath',on+str(i)+tw)\n",
    "            except:\n",
    "                break\n",
    "            try:\n",
    "                o = replace_str(p.text)\n",
    "                o = o.replace('•\\n','')\n",
    "                comment = o.split('ago\\n')[1].split('Upvote')[0]\n",
    "                comments.append(comment)\n",
    "                u.append(uid)\n",
    "            except:\n",
    "                pass\n",
    "d1 = {'uid': uids,\n",
    "      'Community':com,\n",
    "    'Title': titles,\n",
    "     'Content':contents,\n",
    "     'ReviewDate':dates}\n",
    "Revs = pd.DataFrame(d1)\n",
    "\n",
    "# d2 = {'uid': u,\n",
    "#     'comments': comments}\n",
    "# comments = pd.DataFrame(d2)\n",
    "    \n",
    "    \n"
   ]
  },
  {
   "cell_type": "code",
   "execution_count": 9,
   "id": "919265a3",
   "metadata": {},
   "outputs": [],
   "source": [
    "# d1 = {\n",
    "#     'uid': uids,\n",
    "#       'Community':com,\n",
    "#     'Title': titles,\n",
    "#      'Content':contents,\n",
    "#      'ReviewDate':dates}\n",
    "# Revs = pd.DataFrame(d1)\n",
    "\n",
    "# d2 = {'uid': u,\n",
    "#     'comments': comments}\n",
    "# comments = pd.DataFrame(d2)"
   ]
  },
  {
   "cell_type": "code",
   "execution_count": 44,
   "id": "33f6f663",
   "metadata": {},
   "outputs": [],
   "source": [
    "# print(len(uids))\n",
    "# print(len(com))\n",
    "# print(len(titles))\n",
    "# print(len(contents))\n",
    "# print(len(dates))\n",
    "# print(len(links))"
   ]
  },
  {
   "cell_type": "code",
   "execution_count": 43,
   "id": "80c18e73",
   "metadata": {},
   "outputs": [],
   "source": [
    "# R1 = Revs.copy"
   ]
  },
  {
   "cell_type": "code",
   "execution_count": 42,
   "id": "34838be9",
   "metadata": {},
   "outputs": [],
   "source": [
    "# c1 = comments.copy"
   ]
  },
  {
   "cell_type": "code",
   "execution_count": 41,
   "id": "8f7194f4",
   "metadata": {},
   "outputs": [],
   "source": [
    "# ul = links.copy"
   ]
  },
  {
   "cell_type": "code",
   "execution_count": 40,
   "id": "585df1da",
   "metadata": {},
   "outputs": [],
   "source": [
    "# comments.to_csv('com123.csv')"
   ]
  },
  {
   "cell_type": "code",
   "execution_count": 34,
   "id": "c0f14ed7",
   "metadata": {},
   "outputs": [],
   "source": [
    "# links"
   ]
  },
  {
   "cell_type": "code",
   "execution_count": 39,
   "id": "f0ab8e32",
   "metadata": {},
   "outputs": [],
   "source": [
    "# type(d1)"
   ]
  },
  {
   "cell_type": "code",
   "execution_count": 35,
   "id": "bca2de3f",
   "metadata": {},
   "outputs": [],
   "source": [
    "# d1"
   ]
  },
  {
   "cell_type": "code",
   "execution_count": 37,
   "id": "72ec89d9",
   "metadata": {},
   "outputs": [],
   "source": [
    "# data= pd.DataFrame(d1)"
   ]
  },
  {
   "cell_type": "code",
   "execution_count": 38,
   "id": "779aab03",
   "metadata": {},
   "outputs": [],
   "source": [
    "# data.head(5)"
   ]
  },
  {
   "cell_type": "code",
   "execution_count": 32,
   "id": "5e7cef02",
   "metadata": {},
   "outputs": [],
   "source": [
    "# data.to_csv('reddit.csv', index=False)  "
   ]
  },
  {
   "cell_type": "code",
   "execution_count": null,
   "id": "72cfcd38",
   "metadata": {},
   "outputs": [],
   "source": []
  }
 ],
 "metadata": {
  "kernelspec": {
   "display_name": "Python 3 (ipykernel)",
   "language": "python",
   "name": "python3"
  },
  "language_info": {
   "codemirror_mode": {
    "name": "ipython",
    "version": 3
   },
   "file_extension": ".py",
   "mimetype": "text/x-python",
   "name": "python",
   "nbconvert_exporter": "python",
   "pygments_lexer": "ipython3",
   "version": "3.11.7"
  }
 },
 "nbformat": 4,
 "nbformat_minor": 5
}
